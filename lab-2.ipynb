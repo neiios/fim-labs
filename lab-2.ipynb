{
 "cells": [
  {
   "cell_type": "code",
   "execution_count": 55,
   "metadata": {
    "executionInfo": {
     "elapsed": 214,
     "status": "ok",
     "timestamp": 1700831705471,
     "user": {
      "displayName": "Igor",
      "userId": "14609263676023458570"
     },
     "user_tz": -120
    },
    "id": "UFZqS8ISRD-t"
   },
   "outputs": [],
   "source": [
    "import yfinance as yf\n",
    "import seaborn as sns\n",
    "import pandas as pd\n",
    "import numpy as np\n",
    "\n",
    "sns.set_theme(style=\"whitegrid\", palette=\"viridis\")"
   ]
  },
  {
   "cell_type": "markdown",
   "metadata": {
    "id": "hXxgZvjTENN-"
   },
   "source": [
    "## Paskaičiuokite savo akcijos grąžą, riziką, maxdrawdown per metus nuo 2022-09-01 iki 2023-09-01. (1 balas)\n"
   ]
  },
  {
   "cell_type": "code",
   "execution_count": 56,
   "metadata": {
    "colab": {
     "base_uri": "https://localhost:8080/"
    },
    "executionInfo": {
     "elapsed": 671,
     "status": "ok",
     "timestamp": 1700837318980,
     "user": {
      "displayName": "Igor",
      "userId": "14609263676023458570"
     },
     "user_tz": -120
    },
    "id": "dLFT6il1RAsq",
    "outputId": "b4cb32fa-47a8-4ac1-e6f0-0be3901fb25c"
   },
   "outputs": [
    {
     "name": "stdout",
     "output_type": "stream",
     "text": [
      "META Stats From 2022-09-01 To 2023-09-01\n",
      "Return rate: 78.94%\n",
      "Volatility: 53.33%\n",
      "Maximum Drawdown: 47.44%\n",
      "Sharpe Ratio: 1.42\n"
     ]
    }
   ],
   "source": [
    "from_date = \"2022-09-01\"\n",
    "to_date = \"2023-09-01\"\n",
    "\n",
    "symbol = \"META\"\n",
    "stock = yf.Ticker(symbol)\n",
    "hist = stock.history(start=from_date, end=to_date).dropna()\n",
    "\n",
    "print(f\"{symbol} Stats From {from_date} To {to_date}\")\n",
    "\n",
    "initial_price = hist[\"Close\"].iloc[0]\n",
    "final_price = hist[\"Close\"].iloc[-1]\n",
    "\n",
    "return_rate = (final_price / initial_price - 1) * 100\n",
    "print(f\"Return rate: {return_rate:.2f}%\")\n",
    "\n",
    "daily_returns = hist[\"Close\"].pct_change().dropna()\n",
    "volatility = daily_returns.std() * np.sqrt(daily_returns.size) * 100\n",
    "print(f\"Volatility: {volatility:.2f}%\")\n",
    "\n",
    "\n",
    "def calculate_max_drawdown(series):\n",
    "    max_drawdown = 0\n",
    "    peak = series.iloc[0]\n",
    "    for value in series:\n",
    "        if value > peak:\n",
    "            peak = value\n",
    "        else:\n",
    "            drawdown = (peak - value) / peak\n",
    "            max_drawdown = max(max_drawdown, drawdown)\n",
    "    return max_drawdown\n",
    "\n",
    "\n",
    "max_drawdown = calculate_max_drawdown(hist[\"Close\"])\n",
    "print(f\"Maximum Drawdown: {max_drawdown:.2%}\")\n",
    "\n",
    "change = final_price - initial_price\n",
    "return_percentage = (final_price / initial_price - 1) * 100\n",
    "risk_free_percentage = 3\n",
    "sharpe_ratio = (return_percentage - risk_free_percentage) / volatility\n",
    "print(f\"Sharpe Ratio: {sharpe_ratio:.2f}\")"
   ]
  },
  {
   "cell_type": "markdown",
   "metadata": {
    "id": "-XAMd1-tRw0p"
   },
   "source": [
    "## Prie savo gautos akcijos pridėkite dar keturias laisvai pasirinktas akcijas ir sumodeliuokite kelis portfelius, nurodykite kokią grąžą jie būtų patyrę 2022-09-01 iki 2023-09-01 laikotarpiu, kokia būtų rizika, Sharpe Ratio ir max drawdown:\n"
   ]
  },
  {
   "cell_type": "code",
   "execution_count": 57,
   "metadata": {
    "executionInfo": {
     "elapsed": 2,
     "status": "ok",
     "timestamp": 1700831706022,
     "user": {
      "displayName": "Igor",
      "userId": "14609263676023458570"
     },
     "user_tz": -120
    },
    "id": "S0uEKHX_CXy1"
   },
   "outputs": [],
   "source": [
    "start_date = \"2022-09-01\"\n",
    "end_date = \"2023-09-01\"\n",
    "initial_capital = 10000\n",
    "stock_symbols = [\"META\", \"MSFT\", \"GOOGL\", \"LMT\", \"GM\"]"
   ]
  },
  {
   "cell_type": "code",
   "execution_count": 58,
   "metadata": {
    "executionInfo": {
     "elapsed": 2,
     "status": "ok",
     "timestamp": 1700831706022,
     "user": {
      "displayName": "Igor",
      "userId": "14609263676023458570"
     },
     "user_tz": -120
    },
    "id": "_ngxEqCY1iSj"
   },
   "outputs": [],
   "source": [
    "def get_stocks_info(symbol, start_date, end_date, risk_free_rate=3):\n",
    "    stock = yf.Ticker(symbol)\n",
    "    series = stock.history(start=start_date, end=end_date, actions=True, prepost=True)\n",
    "    close_prices = series[\"Close\"]\n",
    "\n",
    "    daily_returns = close_prices.pct_change().dropna()\n",
    "    volatility = daily_returns.std() * np.sqrt(daily_returns.size) * 100\n",
    "    total_return = (close_prices.iloc[-1] / close_prices.iloc[0] - 1) * 100\n",
    "    max_drawdown = get_max_drawdown(close_prices) * 100\n",
    "    sharpe_ratio = (total_return - risk_free_rate) / volatility\n",
    "\n",
    "    return {\n",
    "        \"symbol\": symbol,\n",
    "        \"volatility\": volatility,\n",
    "        \"return\": total_return,\n",
    "        \"max_drawdown\": max_drawdown,\n",
    "        \"sharpe_ratio\": sharpe_ratio,\n",
    "    }\n",
    "\n",
    "\n",
    "def get_portfolio_values(stock_symbols, investment_distribution, start_date, end_date):\n",
    "    data = {}\n",
    "    portfolio_values = []\n",
    "\n",
    "    for symbol in stock_symbols:\n",
    "        stock = yf.Ticker(symbol)\n",
    "        data[symbol] = stock.history(start=start_date, end=end_date)\n",
    "\n",
    "    for i in range(len(data[stock_symbols[0]])):\n",
    "        daily_value = sum(\n",
    "            [\n",
    "                data[symbol][\"Close\"].iloc[i]\n",
    "                * (initial_capital * investment_distribution[symbol])\n",
    "                / data[symbol][\"Close\"].iloc[0]\n",
    "                for symbol in stock_symbols\n",
    "            ]\n",
    "        )\n",
    "        portfolio_values.append(daily_value)\n",
    "\n",
    "    return portfolio_values\n",
    "\n",
    "\n",
    "def get_max_drawdown(series):\n",
    "    max_drawdown = 0\n",
    "    if isinstance(series, pd.Series):\n",
    "        peak = series.iloc[0]\n",
    "    if isinstance(series, list):\n",
    "        peak = series[0]\n",
    "\n",
    "    for value in series:\n",
    "        if value > peak:\n",
    "            peak = value\n",
    "        else:\n",
    "            drawdown = (peak - value) / peak\n",
    "            max_drawdown = max(max_drawdown, drawdown)\n",
    "    return max_drawdown\n",
    "\n",
    "\n",
    "def get_volatility(portfolio_values):\n",
    "    daily_returns = (\n",
    "        np.array(portfolio_values[1:]) - np.array(portfolio_values[:-1])\n",
    "    ) / np.array(portfolio_values[:-1])\n",
    "    std_dev = np.std(daily_returns)\n",
    "    annualized_volatility = std_dev * np.sqrt(252)\n",
    "    annualized_volatility_percentage = annualized_volatility * 100\n",
    "\n",
    "    return annualized_volatility_percentage\n",
    "\n",
    "\n",
    "def get_sharpe_ratio(series, volatility, risk_free_rate=3):\n",
    "    total_return = (series[-1] / series[0] - 1) * 100\n",
    "    sharpe_ratio = (total_return - risk_free_rate) / volatility\n",
    "\n",
    "    return sharpe_ratio\n",
    "\n",
    "\n",
    "def get_some_stock_info(series):\n",
    "    mdd = get_max_drawdown(series) * 100\n",
    "    volatility = get_volatility(series)\n",
    "    sharpe_ratio = get_sharpe_ratio(series, volatility)\n",
    "    total_return = (series[-1] / series[0] - 1) * 100\n",
    "\n",
    "    return {\n",
    "        \"return\": total_return,\n",
    "        \"max_drawdown\": mdd,\n",
    "        \"volatility\": volatility,\n",
    "        \"sharpe_ratio\": sharpe_ratio,\n",
    "    }\n",
    "\n",
    "\n",
    "def highest_total_return(stock_symbols, start_date, end_date):\n",
    "    stock_returns = {}\n",
    "    for symbol in stock_symbols:\n",
    "        metrics = get_stocks_info(symbol, start_date, end_date)\n",
    "        stock_returns[symbol] = metrics[\"return\"]\n",
    "        selected_stock = max(stock_returns, key=stock_returns.get)\n",
    "\n",
    "    return selected_stock\n",
    "\n",
    "\n",
    "def lowest_volatility(stock_symbols, start_date, end_date):\n",
    "    stock_returns = {}\n",
    "    for symbol in stock_symbols:\n",
    "        metrics = get_stocks_info(symbol, start_date, end_date)\n",
    "        stock_returns[symbol] = metrics[\"volatility\"]\n",
    "\n",
    "        selected_stock = min(stock_returns, key=stock_returns.get)\n",
    "    return selected_stock\n",
    "\n",
    "\n",
    "def highest_sharpe_ratio(stock_symbls, start_date, end_date):\n",
    "    stock_returns = {}\n",
    "    for symbol in stock_symbols:\n",
    "        metrics = get_stocks_info(symbol, start_date, end_date)\n",
    "        stock_returns[symbol] = metrics[\"sharpe_ratio\"]\n",
    "\n",
    "        selected_stock = max(stock_returns, key=stock_returns.get)\n",
    "    return selected_stock"
   ]
  },
  {
   "cell_type": "markdown",
   "metadata": {
    "id": "MSkQrC2nGwOD"
   },
   "source": [
    "### 10000 tūkstančių eurų investuojama lygiomis dalimis į visas penkias akcijas (2 balai)\n"
   ]
  },
  {
   "cell_type": "code",
   "execution_count": 59,
   "metadata": {
    "colab": {
     "base_uri": "https://localhost:8080/",
     "height": 81
    },
    "executionInfo": {
     "elapsed": 1261,
     "status": "ok",
     "timestamp": 1700831707281,
     "user": {
      "displayName": "Igor",
      "userId": "14609263676023458570"
     },
     "user_tz": -120
    },
    "id": "CQfUM5CMvEry",
    "outputId": "5ef857cd-9e4d-4a07-b360-29f795427d29"
   },
   "outputs": [
    {
     "data": {
      "text/html": [
       "<div>\n",
       "<style scoped>\n",
       "    .dataframe tbody tr th:only-of-type {\n",
       "        vertical-align: middle;\n",
       "    }\n",
       "\n",
       "    .dataframe tbody tr th {\n",
       "        vertical-align: top;\n",
       "    }\n",
       "\n",
       "    .dataframe thead th {\n",
       "        text-align: right;\n",
       "    }\n",
       "</style>\n",
       "<table border=\"1\" class=\"dataframe\">\n",
       "  <thead>\n",
       "    <tr style=\"text-align: right;\">\n",
       "      <th></th>\n",
       "      <th>return</th>\n",
       "      <th>max_drawdown</th>\n",
       "      <th>volatility</th>\n",
       "      <th>sharpe_ratio</th>\n",
       "    </tr>\n",
       "  </thead>\n",
       "  <tbody>\n",
       "    <tr>\n",
       "      <th>0</th>\n",
       "      <td>25.350992</td>\n",
       "      <td>16.945095</td>\n",
       "      <td>25.003249</td>\n",
       "      <td>0.893924</td>\n",
       "    </tr>\n",
       "  </tbody>\n",
       "</table>\n",
       "</div>"
      ],
      "text/plain": [
       "      return  max_drawdown  volatility  sharpe_ratio\n",
       "0  25.350992     16.945095   25.003249      0.893924"
      ]
     },
     "metadata": {},
     "output_type": "display_data"
    }
   ],
   "source": [
    "investment_distribution = {symbol: 0.20 for symbol in stock_symbols}\n",
    "portfolio_a = get_portfolio_values(\n",
    "    stock_symbols, investment_distribution, start_date, end_date\n",
    ")\n",
    "\n",
    "results_a = get_some_stock_info(portfolio_a)\n",
    "\n",
    "pfa_df = pd.Series(results_a).to_frame().T\n",
    "display(pfa_df)"
   ]
  },
  {
   "cell_type": "markdown",
   "metadata": {
    "id": "R4vWrQKEgDrM"
   },
   "source": [
    "### 10000 investuojama į tą akciją, kuri 2017-09-01 iki 2022-09-01 laikotarpiu turėjo geriausią gražą. (1 balas)\n"
   ]
  },
  {
   "cell_type": "code",
   "execution_count": 60,
   "metadata": {
    "colab": {
     "base_uri": "https://localhost:8080/",
     "height": 99
    },
    "executionInfo": {
     "elapsed": 2445,
     "status": "ok",
     "timestamp": 1700831709721,
     "user": {
      "displayName": "Igor",
      "userId": "14609263676023458570"
     },
     "user_tz": -120
    },
    "id": "n8aWjTaVgEBT",
    "outputId": "e0f491f7-d2c2-431e-9637-ee8b16909c5b"
   },
   "outputs": [
    {
     "data": {
      "text/plain": [
       "'Selected stock MSFT'"
      ]
     },
     "metadata": {},
     "output_type": "display_data"
    },
    {
     "data": {
      "text/html": [
       "<div>\n",
       "<style scoped>\n",
       "    .dataframe tbody tr th:only-of-type {\n",
       "        vertical-align: middle;\n",
       "    }\n",
       "\n",
       "    .dataframe tbody tr th {\n",
       "        vertical-align: top;\n",
       "    }\n",
       "\n",
       "    .dataframe thead th {\n",
       "        text-align: right;\n",
       "    }\n",
       "</style>\n",
       "<table border=\"1\" class=\"dataframe\">\n",
       "  <thead>\n",
       "    <tr style=\"text-align: right;\">\n",
       "      <th></th>\n",
       "      <th>return</th>\n",
       "      <th>max_drawdown</th>\n",
       "      <th>volatility</th>\n",
       "      <th>sharpe_ratio</th>\n",
       "    </tr>\n",
       "  </thead>\n",
       "  <tbody>\n",
       "    <tr>\n",
       "      <th>0</th>\n",
       "      <td>27.083893</td>\n",
       "      <td>19.651221</td>\n",
       "      <td>31.252539</td>\n",
       "      <td>0.770622</td>\n",
       "    </tr>\n",
       "  </tbody>\n",
       "</table>\n",
       "</div>"
      ],
      "text/plain": [
       "      return  max_drawdown  volatility  sharpe_ratio\n",
       "0  27.083893     19.651221   31.252539      0.770622"
      ]
     },
     "metadata": {},
     "output_type": "display_data"
    }
   ],
   "source": [
    "investment_distribution = {}\n",
    "selected_stock = highest_total_return(stock_symbols, \"2017-09-01\", \"2022-09-01\")\n",
    "display(f\"Selected stock {selected_stock}\")\n",
    "investment_distribution[selected_stock] = 1\n",
    "portfolio_b = get_portfolio_values(\n",
    "    [selected_stock], investment_distribution, start_date, end_date\n",
    ")\n",
    "\n",
    "results_b = get_some_stock_info(portfolio_b)\n",
    "\n",
    "pfb_df = pd.Series(results_b).to_frame().T\n",
    "display(pfb_df)"
   ]
  },
  {
   "cell_type": "markdown",
   "metadata": {
    "id": "NA3QhJXYgHCQ"
   },
   "source": [
    "### 10000 investuojama į tą akciją, kuri 2017-09-01 iki 2022-09-01 laikotarpiu turėjo mažiausią riziką. (1 balas)\n"
   ]
  },
  {
   "cell_type": "code",
   "execution_count": 61,
   "metadata": {
    "colab": {
     "base_uri": "https://localhost:8080/",
     "height": 99
    },
    "executionInfo": {
     "elapsed": 1840,
     "status": "ok",
     "timestamp": 1700831711554,
     "user": {
      "displayName": "Igor",
      "userId": "14609263676023458570"
     },
     "user_tz": -120
    },
    "id": "HzkvU1hEgGUe",
    "outputId": "1ae51216-4dc0-4486-8cc4-f757c70c0e66"
   },
   "outputs": [
    {
     "data": {
      "text/plain": [
       "'Selected stock LMT'"
      ]
     },
     "metadata": {},
     "output_type": "display_data"
    },
    {
     "data": {
      "text/html": [
       "<div>\n",
       "<style scoped>\n",
       "    .dataframe tbody tr th:only-of-type {\n",
       "        vertical-align: middle;\n",
       "    }\n",
       "\n",
       "    .dataframe tbody tr th {\n",
       "        vertical-align: top;\n",
       "    }\n",
       "\n",
       "    .dataframe thead th {\n",
       "        text-align: right;\n",
       "    }\n",
       "</style>\n",
       "<table border=\"1\" class=\"dataframe\">\n",
       "  <thead>\n",
       "    <tr style=\"text-align: right;\">\n",
       "      <th></th>\n",
       "      <th>return</th>\n",
       "      <th>max_drawdown</th>\n",
       "      <th>volatility</th>\n",
       "      <th>sharpe_ratio</th>\n",
       "    </tr>\n",
       "  </thead>\n",
       "  <tbody>\n",
       "    <tr>\n",
       "      <th>0</th>\n",
       "      <td>8.870592</td>\n",
       "      <td>11.683054</td>\n",
       "      <td>20.542803</td>\n",
       "      <td>0.285774</td>\n",
       "    </tr>\n",
       "  </tbody>\n",
       "</table>\n",
       "</div>"
      ],
      "text/plain": [
       "     return  max_drawdown  volatility  sharpe_ratio\n",
       "0  8.870592     11.683054   20.542803      0.285774"
      ]
     },
     "metadata": {},
     "output_type": "display_data"
    }
   ],
   "source": [
    "investment_distribution = {}\n",
    "selected_stock = lowest_volatility(stock_symbols, \"2017-09-01\", \"2022-09-01\")\n",
    "display(f\"Selected stock {selected_stock}\")\n",
    "investment_distribution[selected_stock] = 1\n",
    "portfolio_c = get_portfolio_values(\n",
    "    [selected_stock], investment_distribution, start_date, end_date\n",
    ")\n",
    "\n",
    "results_c = get_some_stock_info(portfolio_c)\n",
    "\n",
    "pfc_df = pd.Series(results_c).to_frame().T\n",
    "display(pfc_df)"
   ]
  },
  {
   "cell_type": "markdown",
   "metadata": {
    "id": "hKTwoxDSgJcl"
   },
   "source": [
    "### 10000 investuojama į tą akciją, kuri 2017-09-01 iki 2022-09-01 laikotarpiu turėjo geriausią Sharpe. (1 balas)\n"
   ]
  },
  {
   "cell_type": "code",
   "execution_count": 62,
   "metadata": {
    "colab": {
     "base_uri": "https://localhost:8080/",
     "height": 99
    },
    "executionInfo": {
     "elapsed": 2411,
     "status": "ok",
     "timestamp": 1700831713959,
     "user": {
      "displayName": "Igor",
      "userId": "14609263676023458570"
     },
     "user_tz": -120
    },
    "id": "b0V_JVXGgJFt",
    "outputId": "28579b33-cd38-4d21-97fc-b5d624ac4bfc"
   },
   "outputs": [
    {
     "data": {
      "text/plain": [
       "'Selected stock MSFT'"
      ]
     },
     "metadata": {},
     "output_type": "display_data"
    },
    {
     "data": {
      "text/html": [
       "<div>\n",
       "<style scoped>\n",
       "    .dataframe tbody tr th:only-of-type {\n",
       "        vertical-align: middle;\n",
       "    }\n",
       "\n",
       "    .dataframe tbody tr th {\n",
       "        vertical-align: top;\n",
       "    }\n",
       "\n",
       "    .dataframe thead th {\n",
       "        text-align: right;\n",
       "    }\n",
       "</style>\n",
       "<table border=\"1\" class=\"dataframe\">\n",
       "  <thead>\n",
       "    <tr style=\"text-align: right;\">\n",
       "      <th></th>\n",
       "      <th>return</th>\n",
       "      <th>max_drawdown</th>\n",
       "      <th>volatility</th>\n",
       "      <th>sharpe_ratio</th>\n",
       "    </tr>\n",
       "  </thead>\n",
       "  <tbody>\n",
       "    <tr>\n",
       "      <th>0</th>\n",
       "      <td>27.083893</td>\n",
       "      <td>19.651221</td>\n",
       "      <td>31.252539</td>\n",
       "      <td>0.770622</td>\n",
       "    </tr>\n",
       "  </tbody>\n",
       "</table>\n",
       "</div>"
      ],
      "text/plain": [
       "      return  max_drawdown  volatility  sharpe_ratio\n",
       "0  27.083893     19.651221   31.252539      0.770622"
      ]
     },
     "metadata": {},
     "output_type": "display_data"
    }
   ],
   "source": [
    "investment_distribution = {}\n",
    "selected_stock = highest_sharpe_ratio(stock_symbols, \"2017-09-01\", \"2022-09-01\")\n",
    "display(f\"Selected stock {selected_stock}\")\n",
    "investment_distribution[selected_stock] = 1\n",
    "portfolio_d = get_portfolio_values(\n",
    "    [selected_stock], investment_distribution, start_date, end_date\n",
    ")\n",
    "\n",
    "results_d = get_some_stock_info(portfolio_d)\n",
    "\n",
    "pfd_df = pd.Series(results_d).to_frame().T\n",
    "display(pfd_df)"
   ]
  },
  {
   "cell_type": "markdown",
   "metadata": {
    "id": "CMSKRwJxgM-x"
   },
   "source": [
    "### 10000 išskirstote į dvi akcijas, kurios turėjo mažiausią korealiaciją. 60% investuojate į tą akciją, kuri 2017-09-01 iki 2022-09-01 laikotarpiu turėjo didesnę grąžą ir 40% investuojate į kitą parinktą akciją, pagal korealiaciją. (2 balai)\n"
   ]
  },
  {
   "cell_type": "code",
   "execution_count": 63,
   "metadata": {
    "executionInfo": {
     "elapsed": 4,
     "status": "ok",
     "timestamp": 1700831713960,
     "user": {
      "displayName": "Igor",
      "userId": "14609263676023458570"
     },
     "user_tz": -120
    },
    "id": "fr580adETWXF"
   },
   "outputs": [],
   "source": [
    "def investment_strategy_e(start_date, end_date):\n",
    "    investment_distribution = {}\n",
    "\n",
    "    historical_data = {\n",
    "        symbol: yf.Ticker(symbol).history(start=start_date, end=end_date)\n",
    "        for symbol in stock_symbols\n",
    "    }\n",
    "\n",
    "    historical_closes = pd.DataFrame(\n",
    "        {symbol: df[\"Close\"] for symbol, df in historical_data.items()}\n",
    "    )\n",
    "\n",
    "    historical_returns = historical_closes.pct_change().dropna()\n",
    "    correlation_matrix = historical_returns.corr()\n",
    "\n",
    "    least_correlated_pair = correlation_matrix.unstack().idxmin()\n",
    "    selected_stock = highest_total_return(least_correlated_pair, start_date, end_date)\n",
    "\n",
    "    investment_distribution[selected_stock] = 0.60\n",
    "    other_stock = (set(least_correlated_pair) - {selected_stock}).pop()\n",
    "    investment_distribution[other_stock] = 0.40\n",
    "\n",
    "    display(f\"Portfolio E stocks: {selected_stock} and {other_stock}\")\n",
    "\n",
    "    portfolio_values = get_portfolio_values(\n",
    "        least_correlated_pair, investment_distribution, start_date, end_date\n",
    "    )\n",
    "\n",
    "    return portfolio_values"
   ]
  },
  {
   "cell_type": "code",
   "execution_count": 64,
   "metadata": {
    "colab": {
     "base_uri": "https://localhost:8080/",
     "height": 99
    },
    "executionInfo": {
     "elapsed": 2585,
     "status": "ok",
     "timestamp": 1700831716542,
     "user": {
      "displayName": "Igor",
      "userId": "14609263676023458570"
     },
     "user_tz": -120
    },
    "id": "dNd_8iKagOrn",
    "outputId": "dd34c9dd-27d8-4db1-8308-a9122b9647d9"
   },
   "outputs": [
    {
     "data": {
      "text/plain": [
       "'Portfolio E stocks: META and LMT'"
      ]
     },
     "metadata": {},
     "output_type": "display_data"
    },
    {
     "data": {
      "text/html": [
       "<div>\n",
       "<style scoped>\n",
       "    .dataframe tbody tr th:only-of-type {\n",
       "        vertical-align: middle;\n",
       "    }\n",
       "\n",
       "    .dataframe tbody tr th {\n",
       "        vertical-align: top;\n",
       "    }\n",
       "\n",
       "    .dataframe thead th {\n",
       "        text-align: right;\n",
       "    }\n",
       "</style>\n",
       "<table border=\"1\" class=\"dataframe\">\n",
       "  <thead>\n",
       "    <tr style=\"text-align: right;\">\n",
       "      <th></th>\n",
       "      <th>return</th>\n",
       "      <th>max_drawdown</th>\n",
       "      <th>volatility</th>\n",
       "      <th>sharpe_ratio</th>\n",
       "    </tr>\n",
       "  </thead>\n",
       "  <tbody>\n",
       "    <tr>\n",
       "      <th>0</th>\n",
       "      <td>50.910361</td>\n",
       "      <td>22.833599</td>\n",
       "      <td>31.715233</td>\n",
       "      <td>1.510642</td>\n",
       "    </tr>\n",
       "  </tbody>\n",
       "</table>\n",
       "</div>"
      ],
      "text/plain": [
       "      return  max_drawdown  volatility  sharpe_ratio\n",
       "0  50.910361     22.833599   31.715233      1.510642"
      ]
     },
     "metadata": {},
     "output_type": "display_data"
    }
   ],
   "source": [
    "portfolio_e = investment_strategy_e(start_date, end_date)\n",
    "results_e = get_some_stock_info(portfolio_e)\n",
    "\n",
    "pfe_df = pd.Series(results_e).to_frame().T\n",
    "display(pfe_df)"
   ]
  },
  {
   "cell_type": "markdown",
   "metadata": {
    "id": "3C-pKUnDgPCf"
   },
   "source": [
    "### e varianto investavimą naudojate iki 2023-06-01 ir likusiems tris mėnesiams savo kapitalą, kuris tuo metu yra, investuojate į: 75% į obligaciją, kuri turi 4% metinę grąžą, t.y. per šiuos tris mėnesius turės 1% grąžą. Kitus 25% investuojate į akcija, kuri 2018-06-01 iki 2023-06-01 turėjo mažiausią riziką. (2 balai)\n"
   ]
  },
  {
   "cell_type": "code",
   "execution_count": 65,
   "metadata": {
    "colab": {
     "base_uri": "https://localhost:8080/",
     "height": 117
    },
    "executionInfo": {
     "elapsed": 4677,
     "status": "ok",
     "timestamp": 1700831721216,
     "user": {
      "displayName": "Igor",
      "userId": "14609263676023458570"
     },
     "user_tz": -120
    },
    "id": "-QdSqd4pgSoy",
    "outputId": "929f1b90-3795-444e-e583-361cc3d2957e"
   },
   "outputs": [
    {
     "data": {
      "text/plain": [
       "'Portfolio E stocks: META and LMT'"
      ]
     },
     "metadata": {},
     "output_type": "display_data"
    },
    {
     "data": {
      "text/plain": [
       "'Lowest volatility stock LMT'"
      ]
     },
     "metadata": {},
     "output_type": "display_data"
    },
    {
     "data": {
      "text/html": [
       "<div>\n",
       "<style scoped>\n",
       "    .dataframe tbody tr th:only-of-type {\n",
       "        vertical-align: middle;\n",
       "    }\n",
       "\n",
       "    .dataframe tbody tr th {\n",
       "        vertical-align: top;\n",
       "    }\n",
       "\n",
       "    .dataframe thead th {\n",
       "        text-align: right;\n",
       "    }\n",
       "</style>\n",
       "<table border=\"1\" class=\"dataframe\">\n",
       "  <thead>\n",
       "    <tr style=\"text-align: right;\">\n",
       "      <th></th>\n",
       "      <th>return</th>\n",
       "      <th>max_drawdown</th>\n",
       "      <th>volatility</th>\n",
       "      <th>sharpe_ratio</th>\n",
       "    </tr>\n",
       "  </thead>\n",
       "  <tbody>\n",
       "    <tr>\n",
       "      <th>0</th>\n",
       "      <td>30.304423</td>\n",
       "      <td>22.833603</td>\n",
       "      <td>30.60165</td>\n",
       "      <td>0.892253</td>\n",
       "    </tr>\n",
       "  </tbody>\n",
       "</table>\n",
       "</div>"
      ],
      "text/plain": [
       "      return  max_drawdown  volatility  sharpe_ratio\n",
       "0  30.304423     22.833603    30.60165      0.892253"
      ]
     },
     "metadata": {},
     "output_type": "display_data"
    }
   ],
   "source": [
    "investment_distribution = {}\n",
    "\n",
    "portfolio_f = investment_strategy_e(\"2022-09-01\", \"2023-06-01\")\n",
    "\n",
    "current_portfolio_value = portfolio_f[-1]\n",
    "initial_bond_investment = current_portfolio_value * 0.75\n",
    "quarterly_interest_rate = 0.04 / 4\n",
    "total_bond_return = initial_bond_investment * (1 + quarterly_interest_rate)\n",
    "bond_profit = total_bond_return - initial_bond_investment\n",
    "\n",
    "stock_investment = current_portfolio_value * 0.25\n",
    "selected_stock = lowest_volatility(stock_symbols, \"2018-06-01\", \"2023-06-01\")\n",
    "display(f\"Lowest volatility stock {selected_stock}\")\n",
    "investment_distribution[selected_stock] = 0.25\n",
    "\n",
    "new_portfolio_values = get_portfolio_values(\n",
    "    [selected_stock], investment_distribution, \"2023-06-01\", \"2023-09-01\"\n",
    ")\n",
    "\n",
    "new_portfolio_values = [\n",
    "    value + initial_bond_investment for value in new_portfolio_values\n",
    "]\n",
    "new_portfolio_values[-1] += bond_profit\n",
    "portfolio_f.extend(new_portfolio_values)\n",
    "\n",
    "results_f = get_some_stock_info(portfolio_f)\n",
    "\n",
    "pff_df = pd.Series(results_f).to_frame().T\n",
    "display(pff_df)"
   ]
  }
 ],
 "metadata": {
  "colab": {
   "provenance": []
  },
  "kernelspec": {
   "display_name": "Python 3",
   "name": "python3"
  },
  "language_info": {
   "codemirror_mode": {
    "name": "ipython",
    "version": 3
   },
   "file_extension": ".py",
   "mimetype": "text/x-python",
   "name": "python",
   "nbconvert_exporter": "python",
   "pygments_lexer": "ipython3",
   "version": "3.11.7"
  }
 },
 "nbformat": 4,
 "nbformat_minor": 0
}
